{
 "cells": [
  {
   "cell_type": "code",
   "execution_count": 1,
   "id": "b8901b97",
   "metadata": {},
   "outputs": [
    {
     "name": "stdout",
     "output_type": "stream",
     "text": [
      "1\n",
      "1\n",
      "1\n",
      "1\n",
      "1\n"
     ]
    }
   ],
   "source": [
    "import time\n",
    "import sys\n",
    "import mysql.connector\n",
    "\n",
    "banco = mysql.connector.connect(\n",
    "    host = \"localhost\",\n",
    "    user = \"root\",\n",
    "    password = \"12345\",\n",
    "    database = \"algas\",\n",
    "    auth_plugin='mysql_native_password'\n",
    ")\n",
    "\n",
    "cursor = banco.cursor()\n",
    "\n",
    "def contador_tempo_memoria(inicio, fim, passo = 1):\n",
    "    start = time.time()\n",
    "    transactions = []\n",
    "    for i in range(inicio, fim, passo):\n",
    "        transactions.append(i)\n",
    "    memoria_usada = sys.getsizeof(transactions)\n",
    "    tempo = (time.time() - start)\n",
    "    return { 'inicio': inicio, 'fim': fim, 'passo': passo, 'tempo': tempo, 'memoria_usada': memoria_usada }\n",
    "\n",
    "def salva_valores_bd(valores):\n",
    "    query = \"INSERT INTO algas (inicio, fim, passo, tempo, memoria_usada) VALUES (%s, %s, %s, %s, %s)\"\n",
    "    tempo = valores['tempo']\n",
    "    memoria_usada = valores['memoria_usada']\n",
    "    info = (valores['inicio'], valores['fim'], valores['passo'], tempo, memoria_usada)\n",
    "    cursor.execute(query, info)\n",
    "    banco.commit()\n",
    "    print(cursor.rowcount)\n",
    "\n",
    "salva_valores_bd(contador_tempo_memoria(100000, 600000, 100000))\n",
    "salva_valores_bd(contador_tempo_memoria(1000, 6000, 100))\n",
    "salva_valores_bd(contador_tempo_memoria(100, 600, 100))\n",
    "salva_valores_bd(contador_tempo_memoria(10, 60, 10))\n",
    "salva_valores_bd(contador_tempo_memoria(1000000, 6000000, 1000000))"
   ]
  },
  {
   "cell_type": "code",
   "execution_count": null,
   "id": "a0c7582f",
   "metadata": {},
   "outputs": [],
   "source": []
  }
 ],
 "metadata": {
  "kernelspec": {
   "display_name": "Python 3 (ipykernel)",
   "language": "python",
   "name": "python3"
  },
  "language_info": {
   "codemirror_mode": {
    "name": "ipython",
    "version": 3
   },
   "file_extension": ".py",
   "mimetype": "text/x-python",
   "name": "python",
   "nbconvert_exporter": "python",
   "pygments_lexer": "ipython3",
   "version": "3.9.10"
  }
 },
 "nbformat": 4,
 "nbformat_minor": 5
}
